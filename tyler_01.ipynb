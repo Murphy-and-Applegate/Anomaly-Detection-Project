version https://git-lfs.github.com/spec/v1
oid sha256:2868fac0be790f691ca892408a74d610f42285ba2854d2f4acb4c106a482b0ba
size 17898
