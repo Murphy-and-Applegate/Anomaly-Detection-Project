version https://git-lfs.github.com/spec/v1
oid sha256:bbf44277cbd5340298f8a3c1fe7cd7ab7d595ae6c8334fe5cf27af6b76dcedf2
size 660
